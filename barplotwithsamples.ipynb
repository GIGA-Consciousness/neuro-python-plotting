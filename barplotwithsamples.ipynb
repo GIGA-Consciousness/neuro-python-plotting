{
 "cells": [
  {
   "cell_type": "markdown",
   "metadata": {},
   "source": [
    "# Bar plot with confidence interval and samples\n",
    "This notebook plots bars from per-subject values extracted from REX (or another software) and plots the 90% confidence interval and all per-subject values as scatterplots."
   ]
  },
  {
   "cell_type": "code",
   "execution_count": null,
   "metadata": {
    "collapsed": true
   },
   "outputs": [],
   "source": [
    "%matplotlib inline\n",
    "import matplotlib.pyplot as plt\n",
    "import pandas as pd"
   ]
  },
  {
   "cell_type": "code",
   "execution_count": null,
   "metadata": {
    "collapsed": true
   },
   "outputs": [],
   "source": [
    "# PARAMETERS - EDIT ME\n",
    "groups = [9, 10]  # set the number of items/values for each group\n",
    "groups_labels = ['MCSminus', 'MCSplus']  # set names for each group\n",
    "rex_data_filepath = 'seed_mask_mcsminus_mcsplus.ROIs.rex.data.txt'"
   ]
  },
  {
   "cell_type": "code",
   "execution_count": null,
   "metadata": {
    "collapsed": false
   },
   "outputs": [],
   "source": [
    "# Loading data from Rex csv\n",
    "dfraw = pd.read_csv(rex_data_filepath, index_col=False, header=None, squeeze=True)\n",
    "dfraw"
   ]
  },
  {
   "cell_type": "code",
   "execution_count": null,
   "metadata": {
    "collapsed": false
   },
   "outputs": [],
   "source": [
    "# Extract the values for each group in a separate dataframe\n",
    "df_g = []\n",
    "start = 0\n",
    "for g in groups:\n",
    "    df_g.append(dfraw[start:start+g])\n",
    "    start = g\n",
    "df_g"
   ]
  },
  {
   "cell_type": "code",
   "execution_count": null,
   "metadata": {
    "collapsed": false
   },
   "outputs": [],
   "source": [
    "# Helper functions\n",
    "import numpy as np\n",
    "import scipy.stats\n",
    "\n",
    "def comp_ci(a):\n",
    "    '''Calculates the 90% confidence interval from a vector.\n",
    "    From the excellent SO answer by Ulrich Stern: https://stackoverflow.com/a/34474255/1121352'''\n",
    "    return scipy.stats.t.interval(0.90, len(a)-1, loc=np.mean(a), scale=scipy.stats.sem(a))"
   ]
  },
  {
   "cell_type": "code",
   "execution_count": null,
   "metadata": {
    "collapsed": false
   },
   "outputs": [],
   "source": [
    "# Plot!\n",
    "\n",
    "# Plotting parameters\n",
    "ylim = [-0.2, 0.3]  # limit y axis to these values. Set to None to use default limits automatically detected by matplotlib.\n",
    "width = 1  # width of the bars\n",
    "colors = ['b', 'g', 'r', 'y', 'c', 'b']\n",
    "ylabel = 'Effect sizes'\n",
    "ticks = np.arange(1, 1+(width*len(groups)), width)  # do not modify this\n",
    "\n",
    "# Plotting each bar\n",
    "fig, ax = plt.subplots()\n",
    "for i, dg in enumerate(df_g):\n",
    "    ax.bar(ticks[i], dg.mean(), width=width, yerr=(dg.mean() - comp_ci(dg)[1]), alpha=0.5, color=colors[i], error_kw={'ecolor': 'k', 'elinewidth': 1, 'capsize': 15, 'capthick': 1, 'barsabove': False})\n",
    "    ax.scatter([ticks[i]+(float(width)/2)] * len(dg), dg, color=colors[i], marker='x', s=30)\n",
    "# Change the ticks to set the group name (and place the labels nicely)\n",
    "ax.set_xticks([t + float(width)/2 for t in ticks])  # place in the middle of each bar (position tick t + half of bar width)\n",
    "ax.set_xticklabels(('MCSminus', 'MCSplus'))\n",
    "# Force draw the plot\n",
    "plt.tight_layout()\n",
    "if ylim:\n",
    "    ax.set_ylim(ylim)\n",
    "ax.set_xlim([ticks[0], ticks[-1]+width])\n",
    "plt.ylabel(ylabel)\n",
    "plt.show()"
   ]
  },
  {
   "cell_type": "code",
   "execution_count": null,
   "metadata": {
    "collapsed": true
   },
   "outputs": [],
   "source": []
  }
 ],
 "metadata": {
  "anaconda-cloud": {},
  "kernelspec": {
   "display_name": "Python [default]",
   "language": "python",
   "name": "python2"
  },
  "language_info": {
   "codemirror_mode": {
    "name": "ipython",
    "version": 2
   },
   "file_extension": ".py",
   "mimetype": "text/x-python",
   "name": "python",
   "nbconvert_exporter": "python",
   "pygments_lexer": "ipython2",
   "version": "2.7.13"
  }
 },
 "nbformat": 4,
 "nbformat_minor": 0
}
