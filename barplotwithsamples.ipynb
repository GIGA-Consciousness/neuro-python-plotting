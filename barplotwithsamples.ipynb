{
 "cells": [
  {
   "cell_type": "markdown",
   "metadata": {},
   "source": [
    "# Bar plot with confidence interval and samples\n",
    "This notebook plots bars from per-subject values extracted from REX (or another software) and plots the 90% confidence interval and all per-subject values as scatterplots."
   ]
  },
  {
   "cell_type": "code",
   "execution_count": null,
   "metadata": {
    "collapsed": true
   },
   "outputs": [],
   "source": [
    "%matplotlib inline\n",
    "import matplotlib.pyplot as plt\n",
    "import pandas as pd\n",
    "try:\n",
    "    from adjustText import adjust_text  # you will need this lib if you want to plot subjects ids without overlap: pip install adjustText\n",
    "except ImportError as exc:  # else we will just plot the subjects labels without any adjustment (so the position can overlap with the points and with each others)\n",
    "    adjust_text = None\n",
    "    pass"
   ]
  },
  {
   "cell_type": "code",
   "execution_count": null,
   "metadata": {
    "collapsed": true
   },
   "outputs": [],
   "source": [
    "# PARAMETERS - EDIT ME\n",
    "groups = [12, 12]  # set the number of items/values for each group\n",
    "groups_labels = ['MCS', 'UWS']  # set names for each group\n",
    "subjects_labels = range(1, sum(groups))  # set ID for each subject (can be any string, all that matters is that it is the same order as the input values: first value here is the first value in imported rex data file, etc)\n",
    "show_subjects_labels = False  # show label for each subject's point?\n",
    "rex_data_filepath = 'results.ROIs.rex.data.txt'"
   ]
  },
  {
   "cell_type": "code",
   "execution_count": null,
   "metadata": {
    "collapsed": false
   },
   "outputs": [],
   "source": [
    "# Loading data from Rex csv\n",
    "dfraw = pd.read_csv(rex_data_filepath, index_col=False, header=None, squeeze=True)\n",
    "dfraw"
   ]
  },
  {
   "cell_type": "code",
   "execution_count": null,
   "metadata": {
    "collapsed": false
   },
   "outputs": [],
   "source": [
    "# Extract the values for each group in a separate dataframe\n",
    "df_g = []\n",
    "start = 0\n",
    "for g in groups:\n",
    "    df_g.append(dfraw[start:start+g])\n",
    "    start = g\n",
    "df_g"
   ]
  },
  {
   "cell_type": "code",
   "execution_count": null,
   "metadata": {
    "collapsed": false
   },
   "outputs": [],
   "source": [
    "# Helper functions\n",
    "import numpy as np\n",
    "import scipy.stats\n",
    "\n",
    "def comp_ci(a):\n",
    "    '''Calculates the 90% confidence interval from a vector.\n",
    "    From the excellent SO answer by Ulrich Stern: https://stackoverflow.com/a/34474255/1121352'''\n",
    "    return scipy.stats.t.interval(0.90, len(a)-1, loc=np.mean(a), scale=scipy.stats.sem(a))"
   ]
  },
  {
   "cell_type": "code",
   "execution_count": null,
   "metadata": {
    "collapsed": false
   },
   "outputs": [],
   "source": [
    "# Plot!\n",
    "\n",
    "# Plotting parameters\n",
    "ylim = None  # limit y axis to these values. Set to None to use default limits automatically detected by matplotlib.\n",
    "figsize = [3, 5]  # figure size, in inches, set to None to use default\n",
    "colors = ['b', 'g', 'r', 'y', 'c', 'b']\n",
    "ylabel = 'Effect sizes'\n",
    "ticks = np.arange(1, 1+(width*len(groups)), width)  # do not modify this\n",
    "width = 1  # width of the bars - do not change, it is an internal parameter and does not impact the visualization\n",
    "\n",
    "# Plotting each bar\n",
    "fig, ax = plt.subplots()\n",
    "if figsize:\n",
    "    fig.set_size_inches(figsize[0], figsize[1], forward=True)\n",
    "last_j = 0\n",
    "texts = []\n",
    "for i, dg in enumerate(df_g):\n",
    "    # Draw bars with error bar\n",
    "    bar = ax.bar(ticks[i], dg.mean(), width=width, yerr=(dg.mean() - comp_ci(dg)[1]), alpha=0.5, color=colors[i], error_kw={'ecolor': 'k', 'elinewidth': 1, 'capsize': 15, 'capthick': 1, 'barsabove': False})\n",
    "    # Add scatter points for each subject\n",
    "    scatter_x = ticks[i]+(float(width)/2)\n",
    "    ax.scatter([scatter_x] * len(dg), dg, color=colors[i], marker='x', s=30)\n",
    "    # Add label for each subject scatter point\n",
    "    if show_subjects_labels:\n",
    "        for j, y in enumerate(dg):\n",
    "            text = subjects_labels[last_j+j]\n",
    "            t = ax.text(scatter_x, y, text, alpha=0.5)\n",
    "            texts.append(t)\n",
    "        last_j = j\n",
    "# Adjust label for each subject text placement to avoid overlapping\n",
    "if show_subjects_labels and adjust_text is not None:\n",
    "    #texts = subjects_labels[last_j:end]\n",
    "    adjust_text(texts,\n",
    "                text_from_points=True,\n",
    "        only_move={'text':'xy', 'objects':'x'}, force_text=0.01, force_objects=1.0) #, arrowprops=dict(arrowstyle=\"->\", color='r', lw=0.5))\n",
    "# Change the ticks to set the group name (and place the labels nicely)\n",
    "ax.set_xticks([t + float(width)/2 for t in ticks])  # place in the middle of each bar (position tick t + half of bar width)\n",
    "ax.set_xticklabels(groups_labels)\n",
    "# Force draw the plot\n",
    "plt.tight_layout()\n",
    "if ylim:\n",
    "    ax.set_ylim(ylim)\n",
    "ax.set_xlim([ticks[0], ticks[-1]+width])\n",
    "plt.ylabel(ylabel)\n",
    "plt.show()"
   ]
  },
  {
   "cell_type": "code",
   "execution_count": null,
   "metadata": {
    "collapsed": true
   },
   "outputs": [],
   "source": []
  }
 ],
 "metadata": {
  "anaconda-cloud": {},
  "kernelspec": {
   "display_name": "Python [default]",
   "language": "python",
   "name": "python2"
  },
  "language_info": {
   "codemirror_mode": {
    "name": "ipython",
    "version": 2
   },
   "file_extension": ".py",
   "mimetype": "text/x-python",
   "name": "python",
   "nbconvert_exporter": "python",
   "pygments_lexer": "ipython2",
   "version": "2.7.12"
  }
 },
 "nbformat": 4,
 "nbformat_minor": 0
}
